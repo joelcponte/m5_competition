{
 "cells": [
  {
   "cell_type": "code",
   "execution_count": 1,
   "metadata": {
    "Collapsed": "false",
    "ExecuteTime": {
     "end_time": "2020-03-06T14:07:08.947399Z",
     "start_time": "2020-03-06T14:07:08.480827Z"
    }
   },
   "outputs": [],
   "source": [
    "import pandas as pd\n",
    "import numpy as np\n",
    "import os\n",
    "from m5_helpers.metrics import WRMSSEEvaluator\n",
    "from m5_helpers.model_selection import M5TimeSeriesSplit\n",
    "\n",
    "from IPython.display import display, HTML\n",
    "\n",
    "%load_ext autoreload\n",
    "%autoreload 2"
   ]
  },
  {
   "cell_type": "code",
   "execution_count": null,
   "metadata": {
    "Collapsed": "false"
   },
   "outputs": [],
   "source": []
  },
  {
   "cell_type": "code",
   "execution_count": 2,
   "metadata": {
    "Collapsed": "false",
    "ExecuteTime": {
     "end_time": "2020-03-06T14:07:16.398537Z",
     "start_time": "2020-03-06T14:07:16.369933Z"
    }
   },
   "outputs": [],
   "source": [
    "calendar = pd.read_csv(\"data/calendar.csv\")\n",
    "prices = pd.read_csv(\"data/sell_prices.csv\")\n",
    "train = pd.read_csv(\"data/sales_train_validation.csv\")\n",
    "submission = pd.read_csv(\"data/sample_submission.csv\")"
   ]
  },
  {
   "cell_type": "code",
   "execution_count": null,
   "metadata": {
    "Collapsed": "false",
    "ExecuteTime": {
     "end_time": "2020-03-06T14:08:07.000365Z",
     "start_time": "2020-03-06T14:08:04.987717Z"
    }
   },
   "outputs": [],
   "source": []
  },
  {
   "cell_type": "code",
   "execution_count": 3,
   "metadata": {
    "Collapsed": "false"
   },
   "outputs": [],
   "source": [
    "id_columns = [\"id\", \"item_id\", \"dept_id\", \"cat_id\", \"store_id\", \"state_id\"]"
   ]
  },
  {
   "cell_type": "code",
   "execution_count": null,
   "metadata": {
    "Collapsed": "false"
   },
   "outputs": [],
   "source": []
  },
  {
   "cell_type": "code",
   "execution_count": 4,
   "metadata": {
    "Collapsed": "false"
   },
   "outputs": [],
   "source": [
    "ts = M5TimeSeriesSplit(n_days=28, \n",
    "                       days_columns=train.columns[6:].tolist(),\n",
    "                       fixed_columns=train.columns[:6].tolist(),\n",
    "                       return_index=False,\n",
    "                       rename=False,\n",
    "                       sliding_window=True,\n",
    "                       method=1,\n",
    "                       split_train=True,\n",
    "                       do_enumerate=True)"
   ]
  },
  {
   "cell_type": "code",
   "execution_count": 5,
   "metadata": {
    "Collapsed": "false"
   },
   "outputs": [],
   "source": [
    "from sklearn.linear_model import Lasso"
   ]
  },
  {
   "cell_type": "code",
   "execution_count": 6,
   "metadata": {
    "Collapsed": "false"
   },
   "outputs": [
    {
     "name": "stdout",
     "output_type": "stream",
     "text": [
      "0\n",
      "1\n",
      "2\n",
      "3\n",
      "4\n",
      "5\n",
      "6\n",
      "7\n",
      "8\n",
      "9\n",
      "10\n",
      "11\n",
      "12\n",
      "13\n",
      "14\n",
      "15\n",
      "16\n",
      "17\n",
      "18\n",
      "19\n",
      "20\n",
      "21\n",
      "22\n",
      "23\n",
      "24\n",
      "25\n",
      "26\n",
      "27\n"
     ]
    }
   ],
   "source": [
    "predictions = pd.DataFrame()\n",
    "for i, X_tr, y_tr, X_te, y_te in ts.split(train):\n",
    "    \n",
    "    reg = Lasso()\n",
    "    reg.fit(X_tr.drop(columns=id_columns).values, y_tr)\n",
    "    predictions[train.iloc[:,-28:].columns[i]] = reg.predict(X_te.drop(columns=id_columns).values)\n",
    "\n",
    "    print(i)\n"
   ]
  },
  {
   "cell_type": "code",
   "execution_count": 7,
   "metadata": {
    "Collapsed": "false"
   },
   "outputs": [
    {
     "data": {
      "application/vnd.jupyter.widget-view+json": {
       "model_id": "b28ff1d1b72e458396770cafe44daac6",
       "version_major": 2,
       "version_minor": 0
      },
      "text/plain": [
       "HBox(children=(IntProgress(value=0, max=12), HTML(value='')))"
      ]
     },
     "metadata": {},
     "output_type": "display_data"
    },
    {
     "name": "stdout",
     "output_type": "stream",
     "text": [
      "\r"
     ]
    },
    {
     "data": {
      "application/vnd.jupyter.widget-view+json": {
       "model_id": "b932b1ba0732458eab54b5cde1b590a4",
       "version_major": 2,
       "version_minor": 0
      },
      "text/plain": [
       "HBox(children=(IntProgress(value=0, max=12), HTML(value='')))"
      ]
     },
     "metadata": {},
     "output_type": "display_data"
    },
    {
     "name": "stdout",
     "output_type": "stream",
     "text": [
      "\r"
     ]
    },
    {
     "data": {
      "application/vnd.jupyter.widget-view+json": {
       "model_id": "131ae2223f4e42d69b34c1f773812930",
       "version_major": 2,
       "version_minor": 0
      },
      "text/plain": [
       "HBox(children=(IntProgress(value=0, max=12), HTML(value='')))"
      ]
     },
     "metadata": {},
     "output_type": "display_data"
    },
    {
     "name": "stdout",
     "output_type": "stream",
     "text": [
      "\r"
     ]
    },
    {
     "data": {
      "application/vnd.jupyter.widget-view+json": {
       "model_id": "df524c786bda47feba19becf597ce38c",
       "version_major": 2,
       "version_minor": 0
      },
      "text/plain": [
       "HBox(children=(IntProgress(value=0, max=42840), HTML(value='')))"
      ]
     },
     "metadata": {},
     "output_type": "display_data"
    },
    {
     "name": "stdout",
     "output_type": "stream",
     "text": [
      "\n"
     ]
    }
   ],
   "source": [
    "e = WRMSSEEvaluator(train.iloc[:,:-28], train.iloc[:,-28:], calendar, prices)"
   ]
  },
  {
   "cell_type": "code",
   "execution_count": 8,
   "metadata": {
    "Collapsed": "false"
   },
   "outputs": [],
   "source": [
    "# predictions.columns = train.iloc[:,-28:].columns\n",
    "\n",
    "# predictions[predictions<0] = 0"
   ]
  },
  {
   "cell_type": "code",
   "execution_count": 9,
   "metadata": {
    "Collapsed": "false"
   },
   "outputs": [
    {
     "data": {
      "text/plain": [
       "0.8821369644740106"
      ]
     },
     "execution_count": 9,
     "metadata": {},
     "output_type": "execute_result"
    }
   ],
   "source": [
    "e.score(predictions)"
   ]
  },
  {
   "cell_type": "code",
   "execution_count": 10,
   "metadata": {
    "Collapsed": "false"
   },
   "outputs": [
    {
     "name": "stdout",
     "output_type": "stream",
     "text": [
      "['d_1881', 'd_1882', 'd_1883', 'd_1884', 'd_1885']\n",
      "['d_1886']\n",
      "['d_1881', 'd_1882', 'd_1883', 'd_1884', 'd_1885']\n",
      "['d_1887']\n",
      "['d_1881', 'd_1882', 'd_1883', 'd_1884', 'd_1885']\n",
      "['d_1888']\n",
      "['d_1881', 'd_1882', 'd_1883', 'd_1884', 'd_1885']\n",
      "['d_1889']\n",
      "['d_1881', 'd_1882', 'd_1883', 'd_1884', 'd_1885']\n",
      "['d_1890']\n",
      "['d_1881', 'd_1882', 'd_1883', 'd_1884', 'd_1885']\n",
      "['d_1891']\n"
     ]
    }
   ],
   "source": [
    "ts = M5TimeSeriesSplit(n_days=28, \n",
    "                       days_columns=train.columns[6:].tolist(),\n",
    "                       fixed_columns=train.columns[:6].tolist(),\n",
    "                       return_index=True,\n",
    "                       rename=False,\n",
    "                       sliding_window=True,\n",
    "                       method=1,\n",
    "                       split_train=True,\n",
    "                       do_enumerate=True)\n",
    "\n",
    "predictions = pd.DataFrame()\n",
    "for i, X_tr, y_tr, X_te, y_te in ts.split(train):\n",
    "    print(X_te[-5:])\n",
    "    print(y_te)\n",
    "    if i ==5:\n",
    "        break"
   ]
  },
  {
   "cell_type": "code",
   "execution_count": null,
   "metadata": {
    "Collapsed": "false"
   },
   "outputs": [
    {
     "name": "stdout",
     "output_type": "stream",
     "text": [
      "0\n",
      "1\n",
      "2\n",
      "3\n",
      "4\n",
      "5\n",
      "6\n",
      "7\n",
      "8\n",
      "9\n",
      "10\n",
      "11\n",
      "12\n",
      "13\n",
      "14\n",
      "15\n",
      "16\n",
      "17\n",
      "18\n",
      "19\n",
      "20\n",
      "21\n",
      "22\n",
      "23\n"
     ]
    }
   ],
   "source": [
    "ts = M5TimeSeriesSplit(n_days=28, \n",
    "                       days_columns=train.columns[6:].tolist() + submission.columns[1:].tolist(),\n",
    "                       fixed_columns=train.columns[:6].tolist(),\n",
    "                       return_index=True,\n",
    "                       rename=False,\n",
    "                       sliding_window=True,\n",
    "                       method=1,\n",
    "                       split_train=True,\n",
    "                       do_enumerate=True)\n",
    "\n",
    "predictions = pd.DataFrame()\n",
    "for i, X_tr_col, y_tr_col, X_te_col, y_te_col in ts.split(train):\n",
    "    print(i)\n",
    "    X_tr, y_tr, X_te = train[X_tr_col], train[y_tr_col], train[X_te_col]\n",
    "    \n",
    "    reg = Lasso()\n",
    "    reg.fit(X_tr.drop(columns=id_columns).values, y_tr)\n",
    "\n",
    "    col_name = submission.columns[i+1]\n",
    "    predictions[col_name] = reg.predict(X_te.drop(columns=id_columns).values)"
   ]
  },
  {
   "cell_type": "code",
   "execution_count": null,
   "metadata": {
    "Collapsed": "false"
   },
   "outputs": [],
   "source": []
  },
  {
   "cell_type": "code",
   "execution_count": null,
   "metadata": {
    "Collapsed": "false"
   },
   "outputs": [],
   "source": []
  },
  {
   "cell_type": "code",
   "execution_count": null,
   "metadata": {
    "Collapsed": "false"
   },
   "outputs": [],
   "source": []
  },
  {
   "cell_type": "code",
   "execution_count": null,
   "metadata": {
    "Collapsed": "false"
   },
   "outputs": [],
   "source": [
    "submission.iloc[:predictions.shape[0],1:] = predictions.values"
   ]
  },
  {
   "cell_type": "code",
   "execution_count": null,
   "metadata": {
    "Collapsed": "false"
   },
   "outputs": [],
   "source": [
    "submission.to_csv(\"submissions/submission_3.csv\", index=False)"
   ]
  },
  {
   "cell_type": "code",
   "execution_count": null,
   "metadata": {
    "Collapsed": "false"
   },
   "outputs": [],
   "source": []
  },
  {
   "cell_type": "code",
   "execution_count": null,
   "metadata": {
    "Collapsed": "false"
   },
   "outputs": [],
   "source": []
  }
 ],
 "metadata": {
  "kernelspec": {
   "display_name": "machine-learning-platform",
   "language": "python",
   "name": "machine-learning-platform"
  },
  "language_info": {
   "codemirror_mode": {
    "name": "ipython",
    "version": 3
   },
   "file_extension": ".py",
   "mimetype": "text/x-python",
   "name": "python",
   "nbconvert_exporter": "python",
   "pygments_lexer": "ipython3",
   "version": "3.7.5"
  },
  "toc": {
   "base_numbering": 1,
   "nav_menu": {},
   "number_sections": true,
   "sideBar": true,
   "skip_h1_title": false,
   "title_cell": "Table of Contents",
   "title_sidebar": "Contents",
   "toc_cell": false,
   "toc_position": {},
   "toc_section_display": true,
   "toc_window_display": false
  },
  "varInspector": {
   "cols": {
    "lenName": 16,
    "lenType": 16,
    "lenVar": 40
   },
   "kernels_config": {
    "python": {
     "delete_cmd_postfix": "",
     "delete_cmd_prefix": "del ",
     "library": "var_list.py",
     "varRefreshCmd": "print(var_dic_list())"
    },
    "r": {
     "delete_cmd_postfix": ") ",
     "delete_cmd_prefix": "rm(",
     "library": "var_list.r",
     "varRefreshCmd": "cat(var_dic_list()) "
    }
   },
   "types_to_exclude": [
    "module",
    "function",
    "builtin_function_or_method",
    "instance",
    "_Feature"
   ],
   "window_display": false
  }
 },
 "nbformat": 4,
 "nbformat_minor": 4
}
