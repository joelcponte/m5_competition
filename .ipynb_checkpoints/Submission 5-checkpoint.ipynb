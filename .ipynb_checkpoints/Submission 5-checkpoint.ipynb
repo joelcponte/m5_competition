{
 "cells": [
  {
   "cell_type": "code",
   "execution_count": 1,
   "metadata": {
    "Collapsed": "false",
    "ExecuteTime": {
     "end_time": "2020-03-06T14:07:08.947399Z",
     "start_time": "2020-03-06T14:07:08.480827Z"
    }
   },
   "outputs": [],
   "source": [
    "import pandas as pd\n",
    "import numpy as np\n",
    "import os\n",
    "from m5_helpers.metrics import WRMSSEEvaluator\n",
    "from m5_helpers.model_selection import M5TimeSeriesSplit\n",
    "from m5_helpers.misc import reduce_mem_usage, get_param_grid, get_latest_same_weekday\n",
    "from IPython.display import display, HTML\n",
    "\n",
    "%load_ext autoreload\n",
    "%autoreload 2"
   ]
  },
  {
   "cell_type": "code",
   "execution_count": 2,
   "metadata": {
    "Collapsed": "false"
   },
   "outputs": [
    {
     "name": "stderr",
     "output_type": "stream",
     "text": [
      "/Users/joelponte/opt/anaconda3/envs/machine-learning-platform/lib/python3.7/site-packages/lightgbm/__init__.py:46: UserWarning: Starting from version 2.2.1, the library file in distribution wheels for macOS is built by the Apple Clang (Xcode_8.3.1) compiler.\n",
      "This means that in case of installing LightGBM from PyPI via the ``pip install lightgbm`` command, you don't need to install the gcc compiler anymore.\n",
      "Instead of that, you need to install the OpenMP library, which is required for running LightGBM on the system with the Apple Clang compiler.\n",
      "You can install the OpenMP library by the following command: ``brew install libomp``.\n",
      "  \"You can install the OpenMP library by the following command: ``brew install libomp``.\", UserWarning)\n"
     ]
    }
   ],
   "source": [
    "from sklearn.linear_model import Lasso, Ridge\n",
    "from sklearn.preprocessing import StandardScaler, Normalizer\n",
    "from sklearn.pipeline import Pipeline\n",
    "from lightgbm import LGBMRegressor"
   ]
  },
  {
   "cell_type": "code",
   "execution_count": null,
   "metadata": {
    "Collapsed": "false"
   },
   "outputs": [],
   "source": [
    "calendar = pd.read_csv(\"data/calendar.csv\")\n",
    "prices = pd.read_csv(\"data/sell_prices.csv\")\n",
    "train = pd.read_csv(\"data/sales_train_validation.csv\")\n",
    "submission = pd.read_csv(\"data/sample_submission.csv\")\n",
    "evaluators = dict()\n",
    "scores = []"
   ]
  },
  {
   "cell_type": "code",
   "execution_count": null,
   "metadata": {
    "Collapsed": "false"
   },
   "outputs": [],
   "source": [
    "id_columns = ['id', 'item_id', 'dept_id', 'cat_id', 'store_id', 'state_id']\n",
    "sales_columns = [f\"d_{i}\" for i in range(1, 1+int(train.columns[-1][-4:]))]"
   ]
  },
  {
   "cell_type": "code",
   "execution_count": null,
   "metadata": {
    "Collapsed": "false"
   },
   "outputs": [],
   "source": [
    "reduce_mem_usage(train)"
   ]
  },
  {
   "cell_type": "code",
   "execution_count": null,
   "metadata": {
    "Collapsed": "false"
   },
   "outputs": [],
   "source": []
  },
  {
   "cell_type": "code",
   "execution_count": 372,
   "metadata": {
    "Collapsed": "false"
   },
   "outputs": [],
   "source": [
    "weights = evaluators[0].weights.reset_index()\n",
    "weights.columns = [\"weight_id\", \"weight\"]\n",
    "train[\"weight_id\"] = train[\"item_id\"] + \"--\" + train[\"store_id\"]\n",
    "\n",
    "id_columns = id_columns + [\"weight_id\", \"weight\"]\n",
    "\n",
    "train = pd.merge(train, weights, on=\"weight_id\", how=\"left\")\n",
    "train = train[id_columns + sales_columns]\n",
    "train[\"weight\"] = train.weight * 10000"
   ]
  },
  {
   "cell_type": "code",
   "execution_count": 373,
   "metadata": {
    "Collapsed": "false"
   },
   "outputs": [
    {
     "data": {
      "text/plain": [
       "5803"
      ]
     },
     "execution_count": 373,
     "metadata": {},
     "output_type": "execute_result"
    }
   ],
   "source": [
    "import gc\n",
    "gc.collect()"
   ]
  },
  {
   "cell_type": "code",
   "execution_count": null,
   "metadata": {
    "Collapsed": "false"
   },
   "outputs": [],
   "source": []
  },
  {
   "cell_type": "code",
   "execution_count": null,
   "metadata": {
    "Collapsed": "false"
   },
   "outputs": [],
   "source": []
  },
  {
   "cell_type": "code",
   "execution_count": null,
   "metadata": {
    "Collapsed": "false"
   },
   "outputs": [],
   "source": []
  },
  {
   "cell_type": "code",
   "execution_count": 619,
   "metadata": {
    "Collapsed": "false"
   },
   "outputs": [
    {
     "name": "stdout",
     "output_type": "stream",
     "text": [
      "{'colsample_bytree': 0.6, 'n_estimators': 100}\n",
      "0\t0 1 2 3 4 5 6 7 8 9 10 11 12 13 14 15 16 17 18 19 20 21 22 23 24 25 26 27 "
     ]
    },
    {
     "name": "stderr",
     "output_type": "stream",
     "text": [
      "Exception ignored in: <generator object tqdm_notebook.__iter__ at 0x7fb8d03d5c50>\n",
      "Traceback (most recent call last):\n",
      "  File \"/Users/joelponte/opt/anaconda3/envs/machine-learning-platform/lib/python3.7/site-packages/tqdm/notebook.py\", line 227, in __iter__\n",
      "    self.sp(bar_style='danger')\n",
      "AttributeError: 'tqdm_notebook' object has no attribute 'sp'\n"
     ]
    },
    {
     "ename": "KeyError",
     "evalue": "\"Columns not found: 'd_1885'\"",
     "output_type": "error",
     "traceback": [
      "\u001b[0;31m---------------------------------------------------------------------------\u001b[0m",
      "\u001b[0;31mKeyError\u001b[0m                                  Traceback (most recent call last)",
      "\u001b[0;32m<ipython-input-619-576d9d8afabf>\u001b[0m in \u001b[0;36m<module>\u001b[0;34m\u001b[0m\n\u001b[1;32m     47\u001b[0m             \u001b[0mprint\u001b[0m\u001b[0;34m(\u001b[0m\u001b[0mi\u001b[0m\u001b[0;34m,\u001b[0m \u001b[0mend\u001b[0m\u001b[0;34m=\u001b[0m\u001b[0;34m\" \"\u001b[0m\u001b[0;34m)\u001b[0m\u001b[0;34m\u001b[0m\u001b[0;34m\u001b[0m\u001b[0m\n\u001b[1;32m     48\u001b[0m \u001b[0;34m\u001b[0m\u001b[0m\n\u001b[0;32m---> 49\u001b[0;31m         \u001b[0mscore\u001b[0m \u001b[0;34m=\u001b[0m \u001b[0mevaluators\u001b[0m\u001b[0;34m[\u001b[0m\u001b[0ms\u001b[0m\u001b[0;34m]\u001b[0m\u001b[0;34m.\u001b[0m\u001b[0mscore\u001b[0m\u001b[0;34m(\u001b[0m\u001b[0mpredictions\u001b[0m\u001b[0;34m)\u001b[0m\u001b[0;34m\u001b[0m\u001b[0;34m\u001b[0m\u001b[0m\n\u001b[0m\u001b[1;32m     50\u001b[0m         \u001b[0mprint\u001b[0m\u001b[0;34m(\u001b[0m\u001b[0mscore\u001b[0m\u001b[0;34m)\u001b[0m\u001b[0;34m\u001b[0m\u001b[0;34m\u001b[0m\u001b[0m\n\u001b[1;32m     51\u001b[0m         scores.append({\"slide\": s,\n",
      "\u001b[0;32m~/Documents/code/personal/competitions/M5/m5_helpers/metrics.py\u001b[0m in \u001b[0;36mscore\u001b[0;34m(self, valid_preds)\u001b[0m\n\u001b[1;32m    138\u001b[0m                                                 \u001b[0mself\u001b[0m\u001b[0;34m.\u001b[0m\u001b[0mvalid_target_columns\u001b[0m\u001b[0;34m,\u001b[0m\u001b[0;34m\u001b[0m\u001b[0;34m\u001b[0m\u001b[0m\n\u001b[1;32m    139\u001b[0m                                                 \u001b[0mself\u001b[0m\u001b[0;34m.\u001b[0m\u001b[0mgroup_ids\u001b[0m\u001b[0;34m,\u001b[0m\u001b[0;34m\u001b[0m\u001b[0;34m\u001b[0m\u001b[0m\n\u001b[0;32m--> 140\u001b[0;31m                                                 True)\n\u001b[0m\u001b[1;32m    141\u001b[0m         \u001b[0mself\u001b[0m\u001b[0;34m.\u001b[0m\u001b[0mrmsse\u001b[0m \u001b[0;34m=\u001b[0m \u001b[0mself\u001b[0m\u001b[0;34m.\u001b[0m\u001b[0mget_rmsse\u001b[0m\u001b[0;34m(\u001b[0m\u001b[0mvalid_preds\u001b[0m\u001b[0;34m)\u001b[0m\u001b[0;34m\u001b[0m\u001b[0;34m\u001b[0m\u001b[0m\n\u001b[1;32m    142\u001b[0m         self.contributors = pd.concat([self.weights, self.rmsse], \n",
      "\u001b[0;32m~/Documents/code/personal/competitions/M5/m5_helpers/metrics.py\u001b[0m in \u001b[0;36mtrans_30490_to_42840\u001b[0;34m(self, df, cols, group_ids, dis)\u001b[0m\n\u001b[1;32m    113\u001b[0m         \u001b[0mseries_map\u001b[0m \u001b[0;34m=\u001b[0m \u001b[0;34m{\u001b[0m\u001b[0;34m}\u001b[0m\u001b[0;34m\u001b[0m\u001b[0;34m\u001b[0m\u001b[0m\n\u001b[1;32m    114\u001b[0m         \u001b[0;32mfor\u001b[0m \u001b[0mi\u001b[0m\u001b[0;34m,\u001b[0m \u001b[0mgroup_id\u001b[0m \u001b[0;32min\u001b[0m \u001b[0menumerate\u001b[0m\u001b[0;34m(\u001b[0m\u001b[0mtqdm\u001b[0m\u001b[0;34m(\u001b[0m\u001b[0mself\u001b[0m\u001b[0;34m.\u001b[0m\u001b[0mgroup_ids\u001b[0m\u001b[0;34m,\u001b[0m \u001b[0mleave\u001b[0m\u001b[0;34m=\u001b[0m\u001b[0;32mFalse\u001b[0m\u001b[0;34m,\u001b[0m \u001b[0mdisable\u001b[0m\u001b[0;34m=\u001b[0m\u001b[0mdis\u001b[0m\u001b[0;34m)\u001b[0m\u001b[0;34m)\u001b[0m\u001b[0;34m:\u001b[0m\u001b[0;34m\u001b[0m\u001b[0;34m\u001b[0m\u001b[0m\n\u001b[0;32m--> 115\u001b[0;31m             \u001b[0mtr\u001b[0m \u001b[0;34m=\u001b[0m \u001b[0mdf\u001b[0m\u001b[0;34m.\u001b[0m\u001b[0mgroupby\u001b[0m\u001b[0;34m(\u001b[0m\u001b[0mgroup_id\u001b[0m\u001b[0;34m)\u001b[0m\u001b[0;34m[\u001b[0m\u001b[0mcols\u001b[0m\u001b[0;34m]\u001b[0m\u001b[0;34m.\u001b[0m\u001b[0msum\u001b[0m\u001b[0;34m(\u001b[0m\u001b[0;34m)\u001b[0m\u001b[0;34m\u001b[0m\u001b[0;34m\u001b[0m\u001b[0m\n\u001b[0m\u001b[1;32m    116\u001b[0m             \u001b[0;32mfor\u001b[0m \u001b[0mi\u001b[0m \u001b[0;32min\u001b[0m \u001b[0mrange\u001b[0m\u001b[0;34m(\u001b[0m\u001b[0mlen\u001b[0m\u001b[0;34m(\u001b[0m\u001b[0mtr\u001b[0m\u001b[0;34m)\u001b[0m\u001b[0;34m)\u001b[0m\u001b[0;34m:\u001b[0m\u001b[0;34m\u001b[0m\u001b[0;34m\u001b[0m\u001b[0m\n\u001b[1;32m    117\u001b[0m                 \u001b[0mseries_map\u001b[0m\u001b[0;34m[\u001b[0m\u001b[0mself\u001b[0m\u001b[0;34m.\u001b[0m\u001b[0mget_name\u001b[0m\u001b[0;34m(\u001b[0m\u001b[0mtr\u001b[0m\u001b[0;34m.\u001b[0m\u001b[0mindex\u001b[0m\u001b[0;34m[\u001b[0m\u001b[0mi\u001b[0m\u001b[0;34m]\u001b[0m\u001b[0;34m)\u001b[0m\u001b[0;34m]\u001b[0m \u001b[0;34m=\u001b[0m \u001b[0mtr\u001b[0m\u001b[0;34m.\u001b[0m\u001b[0miloc\u001b[0m\u001b[0;34m[\u001b[0m\u001b[0mi\u001b[0m\u001b[0;34m]\u001b[0m\u001b[0;34m.\u001b[0m\u001b[0mvalues\u001b[0m\u001b[0;34m\u001b[0m\u001b[0;34m\u001b[0m\u001b[0m\n",
      "\u001b[0;32m~/opt/anaconda3/envs/machine-learning-platform/lib/python3.7/site-packages/pandas/core/groupby/generic.py\u001b[0m in \u001b[0;36m__getitem__\u001b[0;34m(self, key)\u001b[0m\n\u001b[1;32m   1601\u001b[0m                 \u001b[0mstacklevel\u001b[0m\u001b[0;34m=\u001b[0m\u001b[0;36m2\u001b[0m\u001b[0;34m,\u001b[0m\u001b[0;34m\u001b[0m\u001b[0;34m\u001b[0m\u001b[0m\n\u001b[1;32m   1602\u001b[0m             )\n\u001b[0;32m-> 1603\u001b[0;31m         \u001b[0;32mreturn\u001b[0m \u001b[0msuper\u001b[0m\u001b[0;34m(\u001b[0m\u001b[0;34m)\u001b[0m\u001b[0;34m.\u001b[0m\u001b[0m__getitem__\u001b[0m\u001b[0;34m(\u001b[0m\u001b[0mkey\u001b[0m\u001b[0;34m)\u001b[0m\u001b[0;34m\u001b[0m\u001b[0;34m\u001b[0m\u001b[0m\n\u001b[0m\u001b[1;32m   1604\u001b[0m \u001b[0;34m\u001b[0m\u001b[0m\n\u001b[1;32m   1605\u001b[0m     \u001b[0;32mdef\u001b[0m \u001b[0m_gotitem\u001b[0m\u001b[0;34m(\u001b[0m\u001b[0mself\u001b[0m\u001b[0;34m,\u001b[0m \u001b[0mkey\u001b[0m\u001b[0;34m,\u001b[0m \u001b[0mndim\u001b[0m\u001b[0;34m:\u001b[0m \u001b[0mint\u001b[0m\u001b[0;34m,\u001b[0m \u001b[0msubset\u001b[0m\u001b[0;34m=\u001b[0m\u001b[0;32mNone\u001b[0m\u001b[0;34m)\u001b[0m\u001b[0;34m:\u001b[0m\u001b[0;34m\u001b[0m\u001b[0;34m\u001b[0m\u001b[0m\n",
      "\u001b[0;32m~/opt/anaconda3/envs/machine-learning-platform/lib/python3.7/site-packages/pandas/core/base.py\u001b[0m in \u001b[0;36m__getitem__\u001b[0;34m(self, key)\u001b[0m\n\u001b[1;32m    218\u001b[0m             \u001b[0;32mif\u001b[0m \u001b[0mlen\u001b[0m\u001b[0;34m(\u001b[0m\u001b[0mself\u001b[0m\u001b[0;34m.\u001b[0m\u001b[0mobj\u001b[0m\u001b[0;34m.\u001b[0m\u001b[0mcolumns\u001b[0m\u001b[0;34m.\u001b[0m\u001b[0mintersection\u001b[0m\u001b[0;34m(\u001b[0m\u001b[0mkey\u001b[0m\u001b[0;34m)\u001b[0m\u001b[0;34m)\u001b[0m \u001b[0;34m!=\u001b[0m \u001b[0mlen\u001b[0m\u001b[0;34m(\u001b[0m\u001b[0mkey\u001b[0m\u001b[0;34m)\u001b[0m\u001b[0;34m:\u001b[0m\u001b[0;34m\u001b[0m\u001b[0;34m\u001b[0m\u001b[0m\n\u001b[1;32m    219\u001b[0m                 \u001b[0mbad_keys\u001b[0m \u001b[0;34m=\u001b[0m \u001b[0mlist\u001b[0m\u001b[0;34m(\u001b[0m\u001b[0mset\u001b[0m\u001b[0;34m(\u001b[0m\u001b[0mkey\u001b[0m\u001b[0;34m)\u001b[0m\u001b[0;34m.\u001b[0m\u001b[0mdifference\u001b[0m\u001b[0;34m(\u001b[0m\u001b[0mself\u001b[0m\u001b[0;34m.\u001b[0m\u001b[0mobj\u001b[0m\u001b[0;34m.\u001b[0m\u001b[0mcolumns\u001b[0m\u001b[0;34m)\u001b[0m\u001b[0;34m)\u001b[0m\u001b[0;34m\u001b[0m\u001b[0;34m\u001b[0m\u001b[0m\n\u001b[0;32m--> 220\u001b[0;31m                 \u001b[0;32mraise\u001b[0m \u001b[0mKeyError\u001b[0m\u001b[0;34m(\u001b[0m\u001b[0;34mf\"Columns not found: {str(bad_keys)[1:-1]}\"\u001b[0m\u001b[0;34m)\u001b[0m\u001b[0;34m\u001b[0m\u001b[0;34m\u001b[0m\u001b[0m\n\u001b[0m\u001b[1;32m    221\u001b[0m             \u001b[0;32mreturn\u001b[0m \u001b[0mself\u001b[0m\u001b[0;34m.\u001b[0m\u001b[0m_gotitem\u001b[0m\u001b[0;34m(\u001b[0m\u001b[0mlist\u001b[0m\u001b[0;34m(\u001b[0m\u001b[0mkey\u001b[0m\u001b[0;34m)\u001b[0m\u001b[0;34m,\u001b[0m \u001b[0mndim\u001b[0m\u001b[0;34m=\u001b[0m\u001b[0;36m2\u001b[0m\u001b[0;34m)\u001b[0m\u001b[0;34m\u001b[0m\u001b[0;34m\u001b[0m\u001b[0m\n\u001b[1;32m    222\u001b[0m \u001b[0;34m\u001b[0m\u001b[0m\n",
      "\u001b[0;31mKeyError\u001b[0m: \"Columns not found: 'd_1885'\""
     ]
    }
   ],
   "source": [
    "slides = [0, 4, 12, 16, 20, 24, 28]\n",
    "params_values = {\n",
    "#     \"alpha\": [1, 5, 10, 20]\n",
    "    \"colsample_bytree\": [0.6],\n",
    "    \"n_estimators\": [100]\n",
    "}\n",
    "for params in get_param_grid(params_values):\n",
    "    print(params, end=\"\\n\")\n",
    "    for s in slides:\n",
    "        print(s, end= \"\\t\")\n",
    "        train_sub = train[id_columns + sales_columns[:len(sales_columns)-s]]\n",
    "        \n",
    "        if s not in evaluators:\n",
    "            evaluators[s] = WRMSSEEvaluator(train_sub.iloc[:,:-28],\n",
    "                                            train_sub.iloc[:,-28:],\n",
    "                                            calendar, \n",
    "                                            prices)\n",
    "\n",
    "\n",
    "        ts = M5TimeSeriesSplit(n_days=28, \n",
    "                               days_columns=[i for i in train_sub.columns\n",
    "                                              if i not in id_columns],\n",
    "                               fixed_columns=id_columns,\n",
    "                               return_index=False,\n",
    "                               rename=False,\n",
    "                               sliding_window=True,\n",
    "                               method=1,\n",
    "                               split_train=False,\n",
    "                               do_enumerate=True)\n",
    "\n",
    "\n",
    "        predictions = pd.DataFrame()\n",
    "        for i, X_tr, y_tr, X_te, y_te in ts.split(train_sub):\n",
    "            day_test = int(y_te.columns[0][-4:])\n",
    "            max_day_train = int(X_tr.columns[-1][-4:])\n",
    "            day_train = get_latest_same_weekday(day_test, max_day_train)\n",
    "\n",
    "            y_tr = X_tr.drop(columns=id_columns).loc[:, f\"d_{day_train}\"]\n",
    "            X_tr = X_tr.drop(columns=id_columns).loc[:, :f\"d_{day_train-i-1}\"]\n",
    "            X_te = X_te.drop(columns=id_columns).iloc[:,-X_tr.shape[1]:]\n",
    "# #             reg = Lasso(alpha=params[\"alpha\"])\n",
    "            reg = LGBMRegressor(**params)\n",
    "            reg.fit(X_tr.values,\n",
    "                    y_tr.values)\n",
    "            predictions[train_sub.iloc[:,-28:].columns[i]] = reg.predict(X_te.values)\n",
    "            \n",
    "            print(i, end=\" \")\n",
    "\n",
    "        score = evaluators[s].score(predictions)\n",
    "        print(score)\n",
    "        scores.append({\"slide\": s,\n",
    "                       \"score\": score,\n",
    "                       \"params\": params})"
   ]
  },
  {
   "cell_type": "code",
   "execution_count": 571,
   "metadata": {
    "Collapsed": "false"
   },
   "outputs": [
    {
     "data": {
      "text/plain": [
       "1892"
      ]
     },
     "execution_count": 571,
     "metadata": {},
     "output_type": "execute_result"
    }
   ],
   "source": [
    "day_test"
   ]
  },
  {
   "cell_type": "code",
   "execution_count": 572,
   "metadata": {
    "Collapsed": "false"
   },
   "outputs": [
    {
     "data": {
      "text/plain": [
       "1885"
      ]
     },
     "execution_count": 572,
     "metadata": {},
     "output_type": "execute_result"
    }
   ],
   "source": [
    "max_day_train"
   ]
  },
  {
   "cell_type": "code",
   "execution_count": 581,
   "metadata": {
    "Collapsed": "false"
   },
   "outputs": [
    {
     "data": {
      "text/plain": [
       "1885"
      ]
     },
     "execution_count": 581,
     "metadata": {},
     "output_type": "execute_result"
    }
   ],
   "source": [
    "get_latest_same_weekday(day_test, max_day_train)"
   ]
  },
  {
   "cell_type": "code",
   "execution_count": null,
   "metadata": {
    "Collapsed": "false"
   },
   "outputs": [],
   "source": []
  },
  {
   "cell_type": "code",
   "execution_count": null,
   "metadata": {
    "Collapsed": "false"
   },
   "outputs": [],
   "source": []
  },
  {
   "cell_type": "code",
   "execution_count": 611,
   "metadata": {
    "Collapsed": "false"
   },
   "outputs": [
    {
     "name": "stdout",
     "output_type": "stream",
     "text": [
      "0 1 2 3 4 5 6 7 8 9 10 11 12 13 14 15 16 17 18 19 20 21 22 23 24 25 26 27 "
     ]
    }
   ],
   "source": [
    "ts = M5TimeSeriesSplit(n_days=28, \n",
    "                       days_columns=[i for i in train.columns\n",
    "                                      if i not in id_columns] + \\\n",
    "                       submission.columns[1:].tolist(),\n",
    "                       fixed_columns=id_columns,\n",
    "                       return_index=True,\n",
    "                       rename=False,\n",
    "                       sliding_window=True,\n",
    "                       method=1,\n",
    "                       split_train=False,\n",
    "                       do_enumerate=True)\n",
    "\n",
    "predictions = pd.DataFrame()\n",
    "params = {'colsample_bytree': 0.6}\n",
    "for i, X_tr_col, y_tr_col, X_te_col, y_te_col in ts.split(train):\n",
    "    print(i, end=\" \")\n",
    "    X_tr, X_te = train[X_tr_col], train[X_te_col]\n",
    "    \n",
    "    day_test = int(X_te.columns[-1][-4:]) + int(y_te_col[0][1:])\n",
    "    max_day_train = int(X_tr.columns[-1][-4:])\n",
    "    day_train = get_latest_same_weekday(day_test, max_day_train)\n",
    "\n",
    "    y_tr = X_tr.drop(columns=id_columns).loc[:, f\"d_{day_train}\"]\n",
    "    X_tr = X_tr.drop(columns=id_columns).loc[:, :f\"d_{day_train-i-1}\"]\n",
    "    X_te = X_te.drop(columns=id_columns).iloc[:,-X_tr.shape[1]:]\n",
    "    \n",
    "#     if i == 0:\n",
    "#         print(X_tr.columns[-4:])\n",
    "#         print(y_tr.head(1))\n",
    "#         print(X_te.columns[-4:])\n",
    "#         print(y_te_col)\n",
    "#         break\n",
    "    \n",
    "    reg = LGBMRegressor(**params)\n",
    "    reg.fit(X_tr.values, y_tr)\n",
    "\n",
    "    col_name = submission.columns[i+1]\n",
    "    predictions[col_name] = reg.predict(X_te.values)\n"
   ]
  },
  {
   "cell_type": "code",
   "execution_count": null,
   "metadata": {
    "Collapsed": "false"
   },
   "outputs": [],
   "source": []
  },
  {
   "cell_type": "code",
   "execution_count": 612,
   "metadata": {
    "Collapsed": "false"
   },
   "outputs": [
    {
     "data": {
      "text/html": [
       "<div>\n",
       "<style scoped>\n",
       "    .dataframe tbody tr th:only-of-type {\n",
       "        vertical-align: middle;\n",
       "    }\n",
       "\n",
       "    .dataframe tbody tr th {\n",
       "        vertical-align: top;\n",
       "    }\n",
       "\n",
       "    .dataframe thead th {\n",
       "        text-align: right;\n",
       "    }\n",
       "</style>\n",
       "<table border=\"1\" class=\"dataframe\">\n",
       "  <thead>\n",
       "    <tr style=\"text-align: right;\">\n",
       "      <th></th>\n",
       "      <th>F1</th>\n",
       "      <th>F2</th>\n",
       "      <th>F3</th>\n",
       "      <th>F4</th>\n",
       "      <th>F5</th>\n",
       "      <th>F6</th>\n",
       "      <th>F7</th>\n",
       "      <th>F8</th>\n",
       "      <th>F9</th>\n",
       "      <th>F10</th>\n",
       "      <th>...</th>\n",
       "      <th>F19</th>\n",
       "      <th>F20</th>\n",
       "      <th>F21</th>\n",
       "      <th>F22</th>\n",
       "      <th>F23</th>\n",
       "      <th>F24</th>\n",
       "      <th>F25</th>\n",
       "      <th>F26</th>\n",
       "      <th>F27</th>\n",
       "      <th>F28</th>\n",
       "    </tr>\n",
       "  </thead>\n",
       "  <tbody>\n",
       "    <tr>\n",
       "      <th>0</th>\n",
       "      <td>0.920631</td>\n",
       "      <td>0.820418</td>\n",
       "      <td>0.660337</td>\n",
       "      <td>0.816939</td>\n",
       "      <td>0.855827</td>\n",
       "      <td>0.990675</td>\n",
       "      <td>1.021169</td>\n",
       "      <td>0.848190</td>\n",
       "      <td>0.729677</td>\n",
       "      <td>0.638372</td>\n",
       "      <td>...</td>\n",
       "      <td>0.717335</td>\n",
       "      <td>0.768788</td>\n",
       "      <td>0.959128</td>\n",
       "      <td>0.834501</td>\n",
       "      <td>0.687194</td>\n",
       "      <td>0.611192</td>\n",
       "      <td>0.623504</td>\n",
       "      <td>0.904162</td>\n",
       "      <td>1.088124</td>\n",
       "      <td>0.878956</td>\n",
       "    </tr>\n",
       "    <tr>\n",
       "      <th>1</th>\n",
       "      <td>0.201179</td>\n",
       "      <td>0.145694</td>\n",
       "      <td>0.205044</td>\n",
       "      <td>0.212516</td>\n",
       "      <td>0.207973</td>\n",
       "      <td>0.195447</td>\n",
       "      <td>0.201112</td>\n",
       "      <td>0.167159</td>\n",
       "      <td>0.162663</td>\n",
       "      <td>0.184801</td>\n",
       "      <td>...</td>\n",
       "      <td>0.254524</td>\n",
       "      <td>0.268212</td>\n",
       "      <td>0.247459</td>\n",
       "      <td>0.227544</td>\n",
       "      <td>0.175558</td>\n",
       "      <td>0.224788</td>\n",
       "      <td>0.169157</td>\n",
       "      <td>0.347697</td>\n",
       "      <td>0.368270</td>\n",
       "      <td>0.367295</td>\n",
       "    </tr>\n",
       "    <tr>\n",
       "      <th>2</th>\n",
       "      <td>0.434735</td>\n",
       "      <td>0.522380</td>\n",
       "      <td>0.536358</td>\n",
       "      <td>0.448343</td>\n",
       "      <td>0.564696</td>\n",
       "      <td>0.675120</td>\n",
       "      <td>0.551327</td>\n",
       "      <td>0.518241</td>\n",
       "      <td>0.580412</td>\n",
       "      <td>0.415860</td>\n",
       "      <td>...</td>\n",
       "      <td>0.550254</td>\n",
       "      <td>0.763403</td>\n",
       "      <td>0.674762</td>\n",
       "      <td>0.484356</td>\n",
       "      <td>0.408435</td>\n",
       "      <td>0.352621</td>\n",
       "      <td>0.468234</td>\n",
       "      <td>0.557148</td>\n",
       "      <td>0.725674</td>\n",
       "      <td>0.716241</td>\n",
       "    </tr>\n",
       "    <tr>\n",
       "      <th>3</th>\n",
       "      <td>1.565242</td>\n",
       "      <td>1.385682</td>\n",
       "      <td>1.249325</td>\n",
       "      <td>1.346097</td>\n",
       "      <td>1.644295</td>\n",
       "      <td>2.609890</td>\n",
       "      <td>2.829781</td>\n",
       "      <td>1.985841</td>\n",
       "      <td>1.665019</td>\n",
       "      <td>2.167715</td>\n",
       "      <td>...</td>\n",
       "      <td>2.154914</td>\n",
       "      <td>2.403448</td>\n",
       "      <td>2.542587</td>\n",
       "      <td>1.842900</td>\n",
       "      <td>1.951591</td>\n",
       "      <td>1.676979</td>\n",
       "      <td>1.534353</td>\n",
       "      <td>2.100628</td>\n",
       "      <td>2.472813</td>\n",
       "      <td>3.754027</td>\n",
       "    </tr>\n",
       "    <tr>\n",
       "      <th>4</th>\n",
       "      <td>1.078194</td>\n",
       "      <td>1.070272</td>\n",
       "      <td>1.102865</td>\n",
       "      <td>1.072075</td>\n",
       "      <td>1.106309</td>\n",
       "      <td>1.388523</td>\n",
       "      <td>1.489489</td>\n",
       "      <td>1.074109</td>\n",
       "      <td>1.024830</td>\n",
       "      <td>1.070487</td>\n",
       "      <td>...</td>\n",
       "      <td>1.196606</td>\n",
       "      <td>1.936835</td>\n",
       "      <td>1.283597</td>\n",
       "      <td>1.040377</td>\n",
       "      <td>1.016422</td>\n",
       "      <td>1.154101</td>\n",
       "      <td>1.134451</td>\n",
       "      <td>1.112468</td>\n",
       "      <td>1.505579</td>\n",
       "      <td>1.640970</td>\n",
       "    </tr>\n",
       "    <tr>\n",
       "      <th>...</th>\n",
       "      <td>...</td>\n",
       "      <td>...</td>\n",
       "      <td>...</td>\n",
       "      <td>...</td>\n",
       "      <td>...</td>\n",
       "      <td>...</td>\n",
       "      <td>...</td>\n",
       "      <td>...</td>\n",
       "      <td>...</td>\n",
       "      <td>...</td>\n",
       "      <td>...</td>\n",
       "      <td>...</td>\n",
       "      <td>...</td>\n",
       "      <td>...</td>\n",
       "      <td>...</td>\n",
       "      <td>...</td>\n",
       "      <td>...</td>\n",
       "      <td>...</td>\n",
       "      <td>...</td>\n",
       "      <td>...</td>\n",
       "      <td>...</td>\n",
       "    </tr>\n",
       "    <tr>\n",
       "      <th>30485</th>\n",
       "      <td>0.235468</td>\n",
       "      <td>0.326595</td>\n",
       "      <td>0.379497</td>\n",
       "      <td>0.275591</td>\n",
       "      <td>0.418147</td>\n",
       "      <td>0.389748</td>\n",
       "      <td>0.446792</td>\n",
       "      <td>0.416869</td>\n",
       "      <td>0.282070</td>\n",
       "      <td>0.508004</td>\n",
       "      <td>...</td>\n",
       "      <td>0.381917</td>\n",
       "      <td>0.524653</td>\n",
       "      <td>0.402072</td>\n",
       "      <td>0.456782</td>\n",
       "      <td>0.345637</td>\n",
       "      <td>0.454466</td>\n",
       "      <td>0.507872</td>\n",
       "      <td>0.553502</td>\n",
       "      <td>0.623674</td>\n",
       "      <td>0.422664</td>\n",
       "    </tr>\n",
       "    <tr>\n",
       "      <th>30486</th>\n",
       "      <td>0.322551</td>\n",
       "      <td>0.222830</td>\n",
       "      <td>0.184301</td>\n",
       "      <td>0.207248</td>\n",
       "      <td>0.273237</td>\n",
       "      <td>0.177452</td>\n",
       "      <td>0.284710</td>\n",
       "      <td>0.209363</td>\n",
       "      <td>0.218481</td>\n",
       "      <td>0.214021</td>\n",
       "      <td>...</td>\n",
       "      <td>0.231854</td>\n",
       "      <td>0.271581</td>\n",
       "      <td>0.319099</td>\n",
       "      <td>0.229146</td>\n",
       "      <td>0.311119</td>\n",
       "      <td>0.229469</td>\n",
       "      <td>0.221545</td>\n",
       "      <td>0.234723</td>\n",
       "      <td>0.284413</td>\n",
       "      <td>0.287990</td>\n",
       "    </tr>\n",
       "    <tr>\n",
       "      <th>30487</th>\n",
       "      <td>0.938396</td>\n",
       "      <td>1.524763</td>\n",
       "      <td>0.721209</td>\n",
       "      <td>0.750656</td>\n",
       "      <td>0.909649</td>\n",
       "      <td>1.035076</td>\n",
       "      <td>0.813100</td>\n",
       "      <td>0.755139</td>\n",
       "      <td>0.580639</td>\n",
       "      <td>0.661715</td>\n",
       "      <td>...</td>\n",
       "      <td>0.697878</td>\n",
       "      <td>0.860734</td>\n",
       "      <td>0.986114</td>\n",
       "      <td>0.793383</td>\n",
       "      <td>0.822276</td>\n",
       "      <td>0.754982</td>\n",
       "      <td>0.619122</td>\n",
       "      <td>0.963764</td>\n",
       "      <td>0.918877</td>\n",
       "      <td>0.831132</td>\n",
       "    </tr>\n",
       "    <tr>\n",
       "      <th>30488</th>\n",
       "      <td>1.010340</td>\n",
       "      <td>0.979058</td>\n",
       "      <td>0.847334</td>\n",
       "      <td>1.303045</td>\n",
       "      <td>1.136522</td>\n",
       "      <td>1.122040</td>\n",
       "      <td>1.407342</td>\n",
       "      <td>0.869307</td>\n",
       "      <td>0.909752</td>\n",
       "      <td>0.455478</td>\n",
       "      <td>...</td>\n",
       "      <td>0.940405</td>\n",
       "      <td>1.144965</td>\n",
       "      <td>1.996188</td>\n",
       "      <td>1.353046</td>\n",
       "      <td>0.799975</td>\n",
       "      <td>0.800126</td>\n",
       "      <td>0.942748</td>\n",
       "      <td>1.407165</td>\n",
       "      <td>1.103461</td>\n",
       "      <td>1.448778</td>\n",
       "    </tr>\n",
       "    <tr>\n",
       "      <th>30489</th>\n",
       "      <td>0.715990</td>\n",
       "      <td>0.734013</td>\n",
       "      <td>0.900316</td>\n",
       "      <td>0.937576</td>\n",
       "      <td>0.737000</td>\n",
       "      <td>0.419317</td>\n",
       "      <td>1.335035</td>\n",
       "      <td>0.854855</td>\n",
       "      <td>0.818726</td>\n",
       "      <td>0.568036</td>\n",
       "      <td>...</td>\n",
       "      <td>1.163722</td>\n",
       "      <td>0.774782</td>\n",
       "      <td>1.090049</td>\n",
       "      <td>1.102166</td>\n",
       "      <td>1.041585</td>\n",
       "      <td>0.801711</td>\n",
       "      <td>0.755921</td>\n",
       "      <td>1.160341</td>\n",
       "      <td>1.468289</td>\n",
       "      <td>1.027514</td>\n",
       "    </tr>\n",
       "  </tbody>\n",
       "</table>\n",
       "<p>30490 rows × 28 columns</p>\n",
       "</div>"
      ],
      "text/plain": [
       "             F1        F2        F3        F4        F5        F6        F7  \\\n",
       "0      0.920631  0.820418  0.660337  0.816939  0.855827  0.990675  1.021169   \n",
       "1      0.201179  0.145694  0.205044  0.212516  0.207973  0.195447  0.201112   \n",
       "2      0.434735  0.522380  0.536358  0.448343  0.564696  0.675120  0.551327   \n",
       "3      1.565242  1.385682  1.249325  1.346097  1.644295  2.609890  2.829781   \n",
       "4      1.078194  1.070272  1.102865  1.072075  1.106309  1.388523  1.489489   \n",
       "...         ...       ...       ...       ...       ...       ...       ...   \n",
       "30485  0.235468  0.326595  0.379497  0.275591  0.418147  0.389748  0.446792   \n",
       "30486  0.322551  0.222830  0.184301  0.207248  0.273237  0.177452  0.284710   \n",
       "30487  0.938396  1.524763  0.721209  0.750656  0.909649  1.035076  0.813100   \n",
       "30488  1.010340  0.979058  0.847334  1.303045  1.136522  1.122040  1.407342   \n",
       "30489  0.715990  0.734013  0.900316  0.937576  0.737000  0.419317  1.335035   \n",
       "\n",
       "             F8        F9       F10  ...       F19       F20       F21  \\\n",
       "0      0.848190  0.729677  0.638372  ...  0.717335  0.768788  0.959128   \n",
       "1      0.167159  0.162663  0.184801  ...  0.254524  0.268212  0.247459   \n",
       "2      0.518241  0.580412  0.415860  ...  0.550254  0.763403  0.674762   \n",
       "3      1.985841  1.665019  2.167715  ...  2.154914  2.403448  2.542587   \n",
       "4      1.074109  1.024830  1.070487  ...  1.196606  1.936835  1.283597   \n",
       "...         ...       ...       ...  ...       ...       ...       ...   \n",
       "30485  0.416869  0.282070  0.508004  ...  0.381917  0.524653  0.402072   \n",
       "30486  0.209363  0.218481  0.214021  ...  0.231854  0.271581  0.319099   \n",
       "30487  0.755139  0.580639  0.661715  ...  0.697878  0.860734  0.986114   \n",
       "30488  0.869307  0.909752  0.455478  ...  0.940405  1.144965  1.996188   \n",
       "30489  0.854855  0.818726  0.568036  ...  1.163722  0.774782  1.090049   \n",
       "\n",
       "            F22       F23       F24       F25       F26       F27       F28  \n",
       "0      0.834501  0.687194  0.611192  0.623504  0.904162  1.088124  0.878956  \n",
       "1      0.227544  0.175558  0.224788  0.169157  0.347697  0.368270  0.367295  \n",
       "2      0.484356  0.408435  0.352621  0.468234  0.557148  0.725674  0.716241  \n",
       "3      1.842900  1.951591  1.676979  1.534353  2.100628  2.472813  3.754027  \n",
       "4      1.040377  1.016422  1.154101  1.134451  1.112468  1.505579  1.640970  \n",
       "...         ...       ...       ...       ...       ...       ...       ...  \n",
       "30485  0.456782  0.345637  0.454466  0.507872  0.553502  0.623674  0.422664  \n",
       "30486  0.229146  0.311119  0.229469  0.221545  0.234723  0.284413  0.287990  \n",
       "30487  0.793383  0.822276  0.754982  0.619122  0.963764  0.918877  0.831132  \n",
       "30488  1.353046  0.799975  0.800126  0.942748  1.407165  1.103461  1.448778  \n",
       "30489  1.102166  1.041585  0.801711  0.755921  1.160341  1.468289  1.027514  \n",
       "\n",
       "[30490 rows x 28 columns]"
      ]
     },
     "execution_count": 612,
     "metadata": {},
     "output_type": "execute_result"
    }
   ],
   "source": [
    "predictions"
   ]
  },
  {
   "cell_type": "code",
   "execution_count": 599,
   "metadata": {
    "Collapsed": "false"
   },
   "outputs": [
    {
     "data": {
      "text/html": [
       "<div>\n",
       "<style scoped>\n",
       "    .dataframe tbody tr th:only-of-type {\n",
       "        vertical-align: middle;\n",
       "    }\n",
       "\n",
       "    .dataframe tbody tr th {\n",
       "        vertical-align: top;\n",
       "    }\n",
       "\n",
       "    .dataframe thead th {\n",
       "        text-align: right;\n",
       "    }\n",
       "</style>\n",
       "<table border=\"1\" class=\"dataframe\">\n",
       "  <thead>\n",
       "    <tr style=\"text-align: right;\">\n",
       "      <th></th>\n",
       "      <th>date</th>\n",
       "      <th>wm_yr_wk</th>\n",
       "      <th>weekday</th>\n",
       "      <th>wday</th>\n",
       "      <th>month</th>\n",
       "      <th>year</th>\n",
       "      <th>d</th>\n",
       "      <th>event_name_1</th>\n",
       "      <th>event_type_1</th>\n",
       "      <th>event_name_2</th>\n",
       "      <th>event_type_2</th>\n",
       "      <th>snap_CA</th>\n",
       "      <th>snap_TX</th>\n",
       "      <th>snap_WI</th>\n",
       "    </tr>\n",
       "  </thead>\n",
       "  <tbody>\n",
       "    <tr>\n",
       "      <th>1912</th>\n",
       "      <td>2016-04-24</td>\n",
       "      <td>11613</td>\n",
       "      <td>Sunday</td>\n",
       "      <td>2</td>\n",
       "      <td>4</td>\n",
       "      <td>2016</td>\n",
       "      <td>d_1913</td>\n",
       "      <td>NaN</td>\n",
       "      <td>NaN</td>\n",
       "      <td>NaN</td>\n",
       "      <td>NaN</td>\n",
       "      <td>0</td>\n",
       "      <td>0</td>\n",
       "      <td>0</td>\n",
       "    </tr>\n",
       "  </tbody>\n",
       "</table>\n",
       "</div>"
      ],
      "text/plain": [
       "            date  wm_yr_wk weekday  wday  month  year       d event_name_1  \\\n",
       "1912  2016-04-24     11613  Sunday     2      4  2016  d_1913          NaN   \n",
       "\n",
       "     event_type_1 event_name_2 event_type_2  snap_CA  snap_TX  snap_WI  \n",
       "1912          NaN          NaN          NaN        0        0        0  "
      ]
     },
     "execution_count": 599,
     "metadata": {},
     "output_type": "execute_result"
    }
   ],
   "source": [
    "calendar[calendar.d==\"d_1913\"]"
   ]
  },
  {
   "cell_type": "code",
   "execution_count": 598,
   "metadata": {
    "Collapsed": "false"
   },
   "outputs": [
    {
     "data": {
      "text/html": [
       "<div>\n",
       "<style scoped>\n",
       "    .dataframe tbody tr th:only-of-type {\n",
       "        vertical-align: middle;\n",
       "    }\n",
       "\n",
       "    .dataframe tbody tr th {\n",
       "        vertical-align: top;\n",
       "    }\n",
       "\n",
       "    .dataframe thead th {\n",
       "        text-align: right;\n",
       "    }\n",
       "</style>\n",
       "<table border=\"1\" class=\"dataframe\">\n",
       "  <thead>\n",
       "    <tr style=\"text-align: right;\">\n",
       "      <th></th>\n",
       "      <th>date</th>\n",
       "      <th>wm_yr_wk</th>\n",
       "      <th>weekday</th>\n",
       "      <th>wday</th>\n",
       "      <th>month</th>\n",
       "      <th>year</th>\n",
       "      <th>d</th>\n",
       "      <th>event_name_1</th>\n",
       "      <th>event_type_1</th>\n",
       "      <th>event_name_2</th>\n",
       "      <th>event_type_2</th>\n",
       "      <th>snap_CA</th>\n",
       "      <th>snap_TX</th>\n",
       "      <th>snap_WI</th>\n",
       "    </tr>\n",
       "  </thead>\n",
       "  <tbody>\n",
       "    <tr>\n",
       "      <th>1933</th>\n",
       "      <td>2016-05-15</td>\n",
       "      <td>11616</td>\n",
       "      <td>Sunday</td>\n",
       "      <td>2</td>\n",
       "      <td>5</td>\n",
       "      <td>2016</td>\n",
       "      <td>d_1934</td>\n",
       "      <td>NaN</td>\n",
       "      <td>NaN</td>\n",
       "      <td>NaN</td>\n",
       "      <td>NaN</td>\n",
       "      <td>0</td>\n",
       "      <td>1</td>\n",
       "      <td>1</td>\n",
       "    </tr>\n",
       "  </tbody>\n",
       "</table>\n",
       "</div>"
      ],
      "text/plain": [
       "            date  wm_yr_wk weekday  wday  month  year       d event_name_1  \\\n",
       "1933  2016-05-15     11616  Sunday     2      5  2016  d_1934          NaN   \n",
       "\n",
       "     event_type_1 event_name_2 event_type_2  snap_CA  snap_TX  snap_WI  \n",
       "1933          NaN          NaN          NaN        0        1        1  "
      ]
     },
     "execution_count": 598,
     "metadata": {},
     "output_type": "execute_result"
    }
   ],
   "source": [
    "calendar[calendar.d==\"d_1934\"]"
   ]
  },
  {
   "cell_type": "code",
   "execution_count": 616,
   "metadata": {
    "Collapsed": "false",
    "ExecuteTime": {
     "end_time": "2020-03-06T16:42:12.877227Z",
     "start_time": "2020-03-06T16:42:12.843214Z"
    }
   },
   "outputs": [],
   "source": [
    "submission.iloc[:predictions.shape[0],1:] = predictions.values"
   ]
  },
  {
   "cell_type": "code",
   "execution_count": 617,
   "metadata": {
    "Collapsed": "false",
    "ExecuteTime": {
     "end_time": "2020-03-06T16:45:39.782432Z",
     "start_time": "2020-03-06T16:45:39.737678Z"
    }
   },
   "outputs": [
    {
     "data": {
      "text/html": [
       "<div>\n",
       "<style scoped>\n",
       "    .dataframe tbody tr th:only-of-type {\n",
       "        vertical-align: middle;\n",
       "    }\n",
       "\n",
       "    .dataframe tbody tr th {\n",
       "        vertical-align: top;\n",
       "    }\n",
       "\n",
       "    .dataframe thead th {\n",
       "        text-align: right;\n",
       "    }\n",
       "</style>\n",
       "<table border=\"1\" class=\"dataframe\">\n",
       "  <thead>\n",
       "    <tr style=\"text-align: right;\">\n",
       "      <th></th>\n",
       "      <th>id</th>\n",
       "      <th>F1</th>\n",
       "      <th>F2</th>\n",
       "      <th>F3</th>\n",
       "      <th>F4</th>\n",
       "      <th>F5</th>\n",
       "      <th>F6</th>\n",
       "      <th>F7</th>\n",
       "      <th>F8</th>\n",
       "      <th>F9</th>\n",
       "      <th>...</th>\n",
       "      <th>F19</th>\n",
       "      <th>F20</th>\n",
       "      <th>F21</th>\n",
       "      <th>F22</th>\n",
       "      <th>F23</th>\n",
       "      <th>F24</th>\n",
       "      <th>F25</th>\n",
       "      <th>F26</th>\n",
       "      <th>F27</th>\n",
       "      <th>F28</th>\n",
       "    </tr>\n",
       "  </thead>\n",
       "  <tbody>\n",
       "    <tr>\n",
       "      <th>0</th>\n",
       "      <td>HOBBIES_1_001_CA_1_validation</td>\n",
       "      <td>0.920631</td>\n",
       "      <td>0.820418</td>\n",
       "      <td>0.660337</td>\n",
       "      <td>0.816939</td>\n",
       "      <td>0.855827</td>\n",
       "      <td>0.990675</td>\n",
       "      <td>1.021169</td>\n",
       "      <td>0.848190</td>\n",
       "      <td>0.729677</td>\n",
       "      <td>...</td>\n",
       "      <td>0.717335</td>\n",
       "      <td>0.768788</td>\n",
       "      <td>0.959128</td>\n",
       "      <td>0.834501</td>\n",
       "      <td>0.687194</td>\n",
       "      <td>0.611192</td>\n",
       "      <td>0.623504</td>\n",
       "      <td>0.904162</td>\n",
       "      <td>1.088124</td>\n",
       "      <td>0.878956</td>\n",
       "    </tr>\n",
       "    <tr>\n",
       "      <th>1</th>\n",
       "      <td>HOBBIES_1_002_CA_1_validation</td>\n",
       "      <td>0.201179</td>\n",
       "      <td>0.145694</td>\n",
       "      <td>0.205044</td>\n",
       "      <td>0.212516</td>\n",
       "      <td>0.207973</td>\n",
       "      <td>0.195447</td>\n",
       "      <td>0.201112</td>\n",
       "      <td>0.167159</td>\n",
       "      <td>0.162663</td>\n",
       "      <td>...</td>\n",
       "      <td>0.254524</td>\n",
       "      <td>0.268212</td>\n",
       "      <td>0.247459</td>\n",
       "      <td>0.227544</td>\n",
       "      <td>0.175558</td>\n",
       "      <td>0.224788</td>\n",
       "      <td>0.169157</td>\n",
       "      <td>0.347697</td>\n",
       "      <td>0.368270</td>\n",
       "      <td>0.367295</td>\n",
       "    </tr>\n",
       "    <tr>\n",
       "      <th>2</th>\n",
       "      <td>HOBBIES_1_003_CA_1_validation</td>\n",
       "      <td>0.434735</td>\n",
       "      <td>0.522380</td>\n",
       "      <td>0.536358</td>\n",
       "      <td>0.448343</td>\n",
       "      <td>0.564696</td>\n",
       "      <td>0.675120</td>\n",
       "      <td>0.551327</td>\n",
       "      <td>0.518241</td>\n",
       "      <td>0.580412</td>\n",
       "      <td>...</td>\n",
       "      <td>0.550254</td>\n",
       "      <td>0.763403</td>\n",
       "      <td>0.674762</td>\n",
       "      <td>0.484356</td>\n",
       "      <td>0.408435</td>\n",
       "      <td>0.352621</td>\n",
       "      <td>0.468234</td>\n",
       "      <td>0.557148</td>\n",
       "      <td>0.725674</td>\n",
       "      <td>0.716241</td>\n",
       "    </tr>\n",
       "    <tr>\n",
       "      <th>3</th>\n",
       "      <td>HOBBIES_1_004_CA_1_validation</td>\n",
       "      <td>1.565242</td>\n",
       "      <td>1.385682</td>\n",
       "      <td>1.249325</td>\n",
       "      <td>1.346097</td>\n",
       "      <td>1.644295</td>\n",
       "      <td>2.609890</td>\n",
       "      <td>2.829781</td>\n",
       "      <td>1.985841</td>\n",
       "      <td>1.665019</td>\n",
       "      <td>...</td>\n",
       "      <td>2.154914</td>\n",
       "      <td>2.403448</td>\n",
       "      <td>2.542587</td>\n",
       "      <td>1.842900</td>\n",
       "      <td>1.951591</td>\n",
       "      <td>1.676979</td>\n",
       "      <td>1.534353</td>\n",
       "      <td>2.100628</td>\n",
       "      <td>2.472813</td>\n",
       "      <td>3.754027</td>\n",
       "    </tr>\n",
       "    <tr>\n",
       "      <th>4</th>\n",
       "      <td>HOBBIES_1_005_CA_1_validation</td>\n",
       "      <td>1.078194</td>\n",
       "      <td>1.070272</td>\n",
       "      <td>1.102865</td>\n",
       "      <td>1.072075</td>\n",
       "      <td>1.106309</td>\n",
       "      <td>1.388523</td>\n",
       "      <td>1.489489</td>\n",
       "      <td>1.074109</td>\n",
       "      <td>1.024830</td>\n",
       "      <td>...</td>\n",
       "      <td>1.196606</td>\n",
       "      <td>1.936835</td>\n",
       "      <td>1.283597</td>\n",
       "      <td>1.040377</td>\n",
       "      <td>1.016422</td>\n",
       "      <td>1.154101</td>\n",
       "      <td>1.134451</td>\n",
       "      <td>1.112468</td>\n",
       "      <td>1.505579</td>\n",
       "      <td>1.640970</td>\n",
       "    </tr>\n",
       "    <tr>\n",
       "      <th>...</th>\n",
       "      <td>...</td>\n",
       "      <td>...</td>\n",
       "      <td>...</td>\n",
       "      <td>...</td>\n",
       "      <td>...</td>\n",
       "      <td>...</td>\n",
       "      <td>...</td>\n",
       "      <td>...</td>\n",
       "      <td>...</td>\n",
       "      <td>...</td>\n",
       "      <td>...</td>\n",
       "      <td>...</td>\n",
       "      <td>...</td>\n",
       "      <td>...</td>\n",
       "      <td>...</td>\n",
       "      <td>...</td>\n",
       "      <td>...</td>\n",
       "      <td>...</td>\n",
       "      <td>...</td>\n",
       "      <td>...</td>\n",
       "      <td>...</td>\n",
       "    </tr>\n",
       "    <tr>\n",
       "      <th>60975</th>\n",
       "      <td>FOODS_3_823_WI_3_evaluation</td>\n",
       "      <td>0.000000</td>\n",
       "      <td>0.000000</td>\n",
       "      <td>0.000000</td>\n",
       "      <td>0.000000</td>\n",
       "      <td>0.000000</td>\n",
       "      <td>0.000000</td>\n",
       "      <td>0.000000</td>\n",
       "      <td>0.000000</td>\n",
       "      <td>0.000000</td>\n",
       "      <td>...</td>\n",
       "      <td>0.000000</td>\n",
       "      <td>0.000000</td>\n",
       "      <td>0.000000</td>\n",
       "      <td>0.000000</td>\n",
       "      <td>0.000000</td>\n",
       "      <td>0.000000</td>\n",
       "      <td>0.000000</td>\n",
       "      <td>0.000000</td>\n",
       "      <td>0.000000</td>\n",
       "      <td>0.000000</td>\n",
       "    </tr>\n",
       "    <tr>\n",
       "      <th>60976</th>\n",
       "      <td>FOODS_3_824_WI_3_evaluation</td>\n",
       "      <td>0.000000</td>\n",
       "      <td>0.000000</td>\n",
       "      <td>0.000000</td>\n",
       "      <td>0.000000</td>\n",
       "      <td>0.000000</td>\n",
       "      <td>0.000000</td>\n",
       "      <td>0.000000</td>\n",
       "      <td>0.000000</td>\n",
       "      <td>0.000000</td>\n",
       "      <td>...</td>\n",
       "      <td>0.000000</td>\n",
       "      <td>0.000000</td>\n",
       "      <td>0.000000</td>\n",
       "      <td>0.000000</td>\n",
       "      <td>0.000000</td>\n",
       "      <td>0.000000</td>\n",
       "      <td>0.000000</td>\n",
       "      <td>0.000000</td>\n",
       "      <td>0.000000</td>\n",
       "      <td>0.000000</td>\n",
       "    </tr>\n",
       "    <tr>\n",
       "      <th>60977</th>\n",
       "      <td>FOODS_3_825_WI_3_evaluation</td>\n",
       "      <td>0.000000</td>\n",
       "      <td>0.000000</td>\n",
       "      <td>0.000000</td>\n",
       "      <td>0.000000</td>\n",
       "      <td>0.000000</td>\n",
       "      <td>0.000000</td>\n",
       "      <td>0.000000</td>\n",
       "      <td>0.000000</td>\n",
       "      <td>0.000000</td>\n",
       "      <td>...</td>\n",
       "      <td>0.000000</td>\n",
       "      <td>0.000000</td>\n",
       "      <td>0.000000</td>\n",
       "      <td>0.000000</td>\n",
       "      <td>0.000000</td>\n",
       "      <td>0.000000</td>\n",
       "      <td>0.000000</td>\n",
       "      <td>0.000000</td>\n",
       "      <td>0.000000</td>\n",
       "      <td>0.000000</td>\n",
       "    </tr>\n",
       "    <tr>\n",
       "      <th>60978</th>\n",
       "      <td>FOODS_3_826_WI_3_evaluation</td>\n",
       "      <td>0.000000</td>\n",
       "      <td>0.000000</td>\n",
       "      <td>0.000000</td>\n",
       "      <td>0.000000</td>\n",
       "      <td>0.000000</td>\n",
       "      <td>0.000000</td>\n",
       "      <td>0.000000</td>\n",
       "      <td>0.000000</td>\n",
       "      <td>0.000000</td>\n",
       "      <td>...</td>\n",
       "      <td>0.000000</td>\n",
       "      <td>0.000000</td>\n",
       "      <td>0.000000</td>\n",
       "      <td>0.000000</td>\n",
       "      <td>0.000000</td>\n",
       "      <td>0.000000</td>\n",
       "      <td>0.000000</td>\n",
       "      <td>0.000000</td>\n",
       "      <td>0.000000</td>\n",
       "      <td>0.000000</td>\n",
       "    </tr>\n",
       "    <tr>\n",
       "      <th>60979</th>\n",
       "      <td>FOODS_3_827_WI_3_evaluation</td>\n",
       "      <td>0.000000</td>\n",
       "      <td>0.000000</td>\n",
       "      <td>0.000000</td>\n",
       "      <td>0.000000</td>\n",
       "      <td>0.000000</td>\n",
       "      <td>0.000000</td>\n",
       "      <td>0.000000</td>\n",
       "      <td>0.000000</td>\n",
       "      <td>0.000000</td>\n",
       "      <td>...</td>\n",
       "      <td>0.000000</td>\n",
       "      <td>0.000000</td>\n",
       "      <td>0.000000</td>\n",
       "      <td>0.000000</td>\n",
       "      <td>0.000000</td>\n",
       "      <td>0.000000</td>\n",
       "      <td>0.000000</td>\n",
       "      <td>0.000000</td>\n",
       "      <td>0.000000</td>\n",
       "      <td>0.000000</td>\n",
       "    </tr>\n",
       "  </tbody>\n",
       "</table>\n",
       "<p>60980 rows × 29 columns</p>\n",
       "</div>"
      ],
      "text/plain": [
       "                                  id        F1        F2        F3        F4  \\\n",
       "0      HOBBIES_1_001_CA_1_validation  0.920631  0.820418  0.660337  0.816939   \n",
       "1      HOBBIES_1_002_CA_1_validation  0.201179  0.145694  0.205044  0.212516   \n",
       "2      HOBBIES_1_003_CA_1_validation  0.434735  0.522380  0.536358  0.448343   \n",
       "3      HOBBIES_1_004_CA_1_validation  1.565242  1.385682  1.249325  1.346097   \n",
       "4      HOBBIES_1_005_CA_1_validation  1.078194  1.070272  1.102865  1.072075   \n",
       "...                              ...       ...       ...       ...       ...   \n",
       "60975    FOODS_3_823_WI_3_evaluation  0.000000  0.000000  0.000000  0.000000   \n",
       "60976    FOODS_3_824_WI_3_evaluation  0.000000  0.000000  0.000000  0.000000   \n",
       "60977    FOODS_3_825_WI_3_evaluation  0.000000  0.000000  0.000000  0.000000   \n",
       "60978    FOODS_3_826_WI_3_evaluation  0.000000  0.000000  0.000000  0.000000   \n",
       "60979    FOODS_3_827_WI_3_evaluation  0.000000  0.000000  0.000000  0.000000   \n",
       "\n",
       "             F5        F6        F7        F8        F9  ...       F19  \\\n",
       "0      0.855827  0.990675  1.021169  0.848190  0.729677  ...  0.717335   \n",
       "1      0.207973  0.195447  0.201112  0.167159  0.162663  ...  0.254524   \n",
       "2      0.564696  0.675120  0.551327  0.518241  0.580412  ...  0.550254   \n",
       "3      1.644295  2.609890  2.829781  1.985841  1.665019  ...  2.154914   \n",
       "4      1.106309  1.388523  1.489489  1.074109  1.024830  ...  1.196606   \n",
       "...         ...       ...       ...       ...       ...  ...       ...   \n",
       "60975  0.000000  0.000000  0.000000  0.000000  0.000000  ...  0.000000   \n",
       "60976  0.000000  0.000000  0.000000  0.000000  0.000000  ...  0.000000   \n",
       "60977  0.000000  0.000000  0.000000  0.000000  0.000000  ...  0.000000   \n",
       "60978  0.000000  0.000000  0.000000  0.000000  0.000000  ...  0.000000   \n",
       "60979  0.000000  0.000000  0.000000  0.000000  0.000000  ...  0.000000   \n",
       "\n",
       "            F20       F21       F22       F23       F24       F25       F26  \\\n",
       "0      0.768788  0.959128  0.834501  0.687194  0.611192  0.623504  0.904162   \n",
       "1      0.268212  0.247459  0.227544  0.175558  0.224788  0.169157  0.347697   \n",
       "2      0.763403  0.674762  0.484356  0.408435  0.352621  0.468234  0.557148   \n",
       "3      2.403448  2.542587  1.842900  1.951591  1.676979  1.534353  2.100628   \n",
       "4      1.936835  1.283597  1.040377  1.016422  1.154101  1.134451  1.112468   \n",
       "...         ...       ...       ...       ...       ...       ...       ...   \n",
       "60975  0.000000  0.000000  0.000000  0.000000  0.000000  0.000000  0.000000   \n",
       "60976  0.000000  0.000000  0.000000  0.000000  0.000000  0.000000  0.000000   \n",
       "60977  0.000000  0.000000  0.000000  0.000000  0.000000  0.000000  0.000000   \n",
       "60978  0.000000  0.000000  0.000000  0.000000  0.000000  0.000000  0.000000   \n",
       "60979  0.000000  0.000000  0.000000  0.000000  0.000000  0.000000  0.000000   \n",
       "\n",
       "            F27       F28  \n",
       "0      1.088124  0.878956  \n",
       "1      0.368270  0.367295  \n",
       "2      0.725674  0.716241  \n",
       "3      2.472813  3.754027  \n",
       "4      1.505579  1.640970  \n",
       "...         ...       ...  \n",
       "60975  0.000000  0.000000  \n",
       "60976  0.000000  0.000000  \n",
       "60977  0.000000  0.000000  \n",
       "60978  0.000000  0.000000  \n",
       "60979  0.000000  0.000000  \n",
       "\n",
       "[60980 rows x 29 columns]"
      ]
     },
     "execution_count": 617,
     "metadata": {},
     "output_type": "execute_result"
    }
   ],
   "source": [
    "submission"
   ]
  },
  {
   "cell_type": "code",
   "execution_count": 618,
   "metadata": {
    "Collapsed": "false",
    "ExecuteTime": {
     "end_time": "2020-03-06T16:44:04.515402Z",
     "start_time": "2020-03-06T16:44:03.463169Z"
    }
   },
   "outputs": [],
   "source": [
    "submission.to_csv(\"submissions/submission_5.csv\", index=False)"
   ]
  },
  {
   "cell_type": "raw",
   "metadata": {
    "Collapsed": "false"
   },
   "source": []
  },
  {
   "cell_type": "code",
   "execution_count": 64,
   "metadata": {
    "Collapsed": "false"
   },
   "outputs": [
    {
     "name": "stdout",
     "output_type": "stream",
     "text": [
      "0\n"
     ]
    },
    {
     "name": "stderr",
     "output_type": "stream",
     "text": [
      "/Users/joelponte/opt/anaconda3/envs/machine-learning-platform/lib/python3.7/site-packages/sklearn/utils/validation.py:760: DataConversionWarning: A column-vector y was passed when a 1d array was expected. Please change the shape of y to (n_samples, ), for example using ravel().\n",
      "  y = column_or_1d(y, warn=True)\n"
     ]
    },
    {
     "name": "stdout",
     "output_type": "stream",
     "text": [
      "1\n"
     ]
    },
    {
     "name": "stderr",
     "output_type": "stream",
     "text": [
      "/Users/joelponte/opt/anaconda3/envs/machine-learning-platform/lib/python3.7/site-packages/sklearn/utils/validation.py:760: DataConversionWarning: A column-vector y was passed when a 1d array was expected. Please change the shape of y to (n_samples, ), for example using ravel().\n",
      "  y = column_or_1d(y, warn=True)\n"
     ]
    },
    {
     "name": "stdout",
     "output_type": "stream",
     "text": [
      "2\n"
     ]
    },
    {
     "name": "stderr",
     "output_type": "stream",
     "text": [
      "/Users/joelponte/opt/anaconda3/envs/machine-learning-platform/lib/python3.7/site-packages/sklearn/utils/validation.py:760: DataConversionWarning: A column-vector y was passed when a 1d array was expected. Please change the shape of y to (n_samples, ), for example using ravel().\n",
      "  y = column_or_1d(y, warn=True)\n"
     ]
    },
    {
     "name": "stdout",
     "output_type": "stream",
     "text": [
      "3\n"
     ]
    },
    {
     "name": "stderr",
     "output_type": "stream",
     "text": [
      "/Users/joelponte/opt/anaconda3/envs/machine-learning-platform/lib/python3.7/site-packages/sklearn/utils/validation.py:760: DataConversionWarning: A column-vector y was passed when a 1d array was expected. Please change the shape of y to (n_samples, ), for example using ravel().\n",
      "  y = column_or_1d(y, warn=True)\n"
     ]
    },
    {
     "name": "stdout",
     "output_type": "stream",
     "text": [
      "4\n"
     ]
    },
    {
     "name": "stderr",
     "output_type": "stream",
     "text": [
      "/Users/joelponte/opt/anaconda3/envs/machine-learning-platform/lib/python3.7/site-packages/sklearn/utils/validation.py:760: DataConversionWarning: A column-vector y was passed when a 1d array was expected. Please change the shape of y to (n_samples, ), for example using ravel().\n",
      "  y = column_or_1d(y, warn=True)\n"
     ]
    },
    {
     "name": "stdout",
     "output_type": "stream",
     "text": [
      "5\n"
     ]
    },
    {
     "name": "stderr",
     "output_type": "stream",
     "text": [
      "/Users/joelponte/opt/anaconda3/envs/machine-learning-platform/lib/python3.7/site-packages/sklearn/utils/validation.py:760: DataConversionWarning: A column-vector y was passed when a 1d array was expected. Please change the shape of y to (n_samples, ), for example using ravel().\n",
      "  y = column_or_1d(y, warn=True)\n"
     ]
    },
    {
     "name": "stdout",
     "output_type": "stream",
     "text": [
      "6\n"
     ]
    },
    {
     "name": "stderr",
     "output_type": "stream",
     "text": [
      "/Users/joelponte/opt/anaconda3/envs/machine-learning-platform/lib/python3.7/site-packages/sklearn/utils/validation.py:760: DataConversionWarning: A column-vector y was passed when a 1d array was expected. Please change the shape of y to (n_samples, ), for example using ravel().\n",
      "  y = column_or_1d(y, warn=True)\n"
     ]
    },
    {
     "name": "stdout",
     "output_type": "stream",
     "text": [
      "7\n"
     ]
    },
    {
     "name": "stderr",
     "output_type": "stream",
     "text": [
      "/Users/joelponte/opt/anaconda3/envs/machine-learning-platform/lib/python3.7/site-packages/sklearn/utils/validation.py:760: DataConversionWarning: A column-vector y was passed when a 1d array was expected. Please change the shape of y to (n_samples, ), for example using ravel().\n",
      "  y = column_or_1d(y, warn=True)\n"
     ]
    },
    {
     "name": "stdout",
     "output_type": "stream",
     "text": [
      "8\n"
     ]
    },
    {
     "name": "stderr",
     "output_type": "stream",
     "text": [
      "/Users/joelponte/opt/anaconda3/envs/machine-learning-platform/lib/python3.7/site-packages/sklearn/utils/validation.py:760: DataConversionWarning: A column-vector y was passed when a 1d array was expected. Please change the shape of y to (n_samples, ), for example using ravel().\n",
      "  y = column_or_1d(y, warn=True)\n"
     ]
    },
    {
     "name": "stdout",
     "output_type": "stream",
     "text": [
      "9\n"
     ]
    },
    {
     "name": "stderr",
     "output_type": "stream",
     "text": [
      "/Users/joelponte/opt/anaconda3/envs/machine-learning-platform/lib/python3.7/site-packages/sklearn/utils/validation.py:760: DataConversionWarning: A column-vector y was passed when a 1d array was expected. Please change the shape of y to (n_samples, ), for example using ravel().\n",
      "  y = column_or_1d(y, warn=True)\n"
     ]
    },
    {
     "name": "stdout",
     "output_type": "stream",
     "text": [
      "10\n"
     ]
    },
    {
     "name": "stderr",
     "output_type": "stream",
     "text": [
      "/Users/joelponte/opt/anaconda3/envs/machine-learning-platform/lib/python3.7/site-packages/sklearn/utils/validation.py:760: DataConversionWarning: A column-vector y was passed when a 1d array was expected. Please change the shape of y to (n_samples, ), for example using ravel().\n",
      "  y = column_or_1d(y, warn=True)\n"
     ]
    },
    {
     "name": "stdout",
     "output_type": "stream",
     "text": [
      "11\n"
     ]
    },
    {
     "name": "stderr",
     "output_type": "stream",
     "text": [
      "/Users/joelponte/opt/anaconda3/envs/machine-learning-platform/lib/python3.7/site-packages/sklearn/utils/validation.py:760: DataConversionWarning: A column-vector y was passed when a 1d array was expected. Please change the shape of y to (n_samples, ), for example using ravel().\n",
      "  y = column_or_1d(y, warn=True)\n"
     ]
    },
    {
     "name": "stdout",
     "output_type": "stream",
     "text": [
      "12\n"
     ]
    },
    {
     "name": "stderr",
     "output_type": "stream",
     "text": [
      "/Users/joelponte/opt/anaconda3/envs/machine-learning-platform/lib/python3.7/site-packages/sklearn/utils/validation.py:760: DataConversionWarning: A column-vector y was passed when a 1d array was expected. Please change the shape of y to (n_samples, ), for example using ravel().\n",
      "  y = column_or_1d(y, warn=True)\n"
     ]
    },
    {
     "name": "stdout",
     "output_type": "stream",
     "text": [
      "13\n"
     ]
    },
    {
     "name": "stderr",
     "output_type": "stream",
     "text": [
      "/Users/joelponte/opt/anaconda3/envs/machine-learning-platform/lib/python3.7/site-packages/sklearn/utils/validation.py:760: DataConversionWarning: A column-vector y was passed when a 1d array was expected. Please change the shape of y to (n_samples, ), for example using ravel().\n",
      "  y = column_or_1d(y, warn=True)\n"
     ]
    },
    {
     "name": "stdout",
     "output_type": "stream",
     "text": [
      "14\n"
     ]
    },
    {
     "name": "stderr",
     "output_type": "stream",
     "text": [
      "/Users/joelponte/opt/anaconda3/envs/machine-learning-platform/lib/python3.7/site-packages/sklearn/utils/validation.py:760: DataConversionWarning: A column-vector y was passed when a 1d array was expected. Please change the shape of y to (n_samples, ), for example using ravel().\n",
      "  y = column_or_1d(y, warn=True)\n"
     ]
    },
    {
     "name": "stdout",
     "output_type": "stream",
     "text": [
      "15\n"
     ]
    },
    {
     "name": "stderr",
     "output_type": "stream",
     "text": [
      "/Users/joelponte/opt/anaconda3/envs/machine-learning-platform/lib/python3.7/site-packages/sklearn/utils/validation.py:760: DataConversionWarning: A column-vector y was passed when a 1d array was expected. Please change the shape of y to (n_samples, ), for example using ravel().\n",
      "  y = column_or_1d(y, warn=True)\n"
     ]
    },
    {
     "name": "stdout",
     "output_type": "stream",
     "text": [
      "16\n"
     ]
    },
    {
     "name": "stderr",
     "output_type": "stream",
     "text": [
      "/Users/joelponte/opt/anaconda3/envs/machine-learning-platform/lib/python3.7/site-packages/sklearn/utils/validation.py:760: DataConversionWarning: A column-vector y was passed when a 1d array was expected. Please change the shape of y to (n_samples, ), for example using ravel().\n",
      "  y = column_or_1d(y, warn=True)\n"
     ]
    },
    {
     "name": "stdout",
     "output_type": "stream",
     "text": [
      "17\n"
     ]
    },
    {
     "name": "stderr",
     "output_type": "stream",
     "text": [
      "/Users/joelponte/opt/anaconda3/envs/machine-learning-platform/lib/python3.7/site-packages/sklearn/utils/validation.py:760: DataConversionWarning: A column-vector y was passed when a 1d array was expected. Please change the shape of y to (n_samples, ), for example using ravel().\n",
      "  y = column_or_1d(y, warn=True)\n"
     ]
    },
    {
     "name": "stdout",
     "output_type": "stream",
     "text": [
      "18\n"
     ]
    },
    {
     "name": "stderr",
     "output_type": "stream",
     "text": [
      "/Users/joelponte/opt/anaconda3/envs/machine-learning-platform/lib/python3.7/site-packages/sklearn/utils/validation.py:760: DataConversionWarning: A column-vector y was passed when a 1d array was expected. Please change the shape of y to (n_samples, ), for example using ravel().\n",
      "  y = column_or_1d(y, warn=True)\n"
     ]
    },
    {
     "name": "stdout",
     "output_type": "stream",
     "text": [
      "19\n"
     ]
    },
    {
     "name": "stderr",
     "output_type": "stream",
     "text": [
      "/Users/joelponte/opt/anaconda3/envs/machine-learning-platform/lib/python3.7/site-packages/sklearn/utils/validation.py:760: DataConversionWarning: A column-vector y was passed when a 1d array was expected. Please change the shape of y to (n_samples, ), for example using ravel().\n",
      "  y = column_or_1d(y, warn=True)\n"
     ]
    },
    {
     "name": "stdout",
     "output_type": "stream",
     "text": [
      "20\n"
     ]
    },
    {
     "name": "stderr",
     "output_type": "stream",
     "text": [
      "/Users/joelponte/opt/anaconda3/envs/machine-learning-platform/lib/python3.7/site-packages/sklearn/utils/validation.py:760: DataConversionWarning: A column-vector y was passed when a 1d array was expected. Please change the shape of y to (n_samples, ), for example using ravel().\n",
      "  y = column_or_1d(y, warn=True)\n"
     ]
    },
    {
     "name": "stdout",
     "output_type": "stream",
     "text": [
      "21\n"
     ]
    },
    {
     "name": "stderr",
     "output_type": "stream",
     "text": [
      "/Users/joelponte/opt/anaconda3/envs/machine-learning-platform/lib/python3.7/site-packages/sklearn/utils/validation.py:760: DataConversionWarning: A column-vector y was passed when a 1d array was expected. Please change the shape of y to (n_samples, ), for example using ravel().\n",
      "  y = column_or_1d(y, warn=True)\n"
     ]
    },
    {
     "name": "stdout",
     "output_type": "stream",
     "text": [
      "22\n"
     ]
    },
    {
     "name": "stderr",
     "output_type": "stream",
     "text": [
      "/Users/joelponte/opt/anaconda3/envs/machine-learning-platform/lib/python3.7/site-packages/sklearn/utils/validation.py:760: DataConversionWarning: A column-vector y was passed when a 1d array was expected. Please change the shape of y to (n_samples, ), for example using ravel().\n",
      "  y = column_or_1d(y, warn=True)\n"
     ]
    },
    {
     "name": "stdout",
     "output_type": "stream",
     "text": [
      "23\n"
     ]
    },
    {
     "name": "stderr",
     "output_type": "stream",
     "text": [
      "/Users/joelponte/opt/anaconda3/envs/machine-learning-platform/lib/python3.7/site-packages/sklearn/utils/validation.py:760: DataConversionWarning: A column-vector y was passed when a 1d array was expected. Please change the shape of y to (n_samples, ), for example using ravel().\n",
      "  y = column_or_1d(y, warn=True)\n"
     ]
    },
    {
     "name": "stdout",
     "output_type": "stream",
     "text": [
      "24\n"
     ]
    },
    {
     "name": "stderr",
     "output_type": "stream",
     "text": [
      "/Users/joelponte/opt/anaconda3/envs/machine-learning-platform/lib/python3.7/site-packages/sklearn/utils/validation.py:760: DataConversionWarning: A column-vector y was passed when a 1d array was expected. Please change the shape of y to (n_samples, ), for example using ravel().\n",
      "  y = column_or_1d(y, warn=True)\n"
     ]
    },
    {
     "name": "stdout",
     "output_type": "stream",
     "text": [
      "25\n"
     ]
    },
    {
     "name": "stderr",
     "output_type": "stream",
     "text": [
      "/Users/joelponte/opt/anaconda3/envs/machine-learning-platform/lib/python3.7/site-packages/sklearn/utils/validation.py:760: DataConversionWarning: A column-vector y was passed when a 1d array was expected. Please change the shape of y to (n_samples, ), for example using ravel().\n",
      "  y = column_or_1d(y, warn=True)\n"
     ]
    },
    {
     "name": "stdout",
     "output_type": "stream",
     "text": [
      "26\n"
     ]
    },
    {
     "name": "stderr",
     "output_type": "stream",
     "text": [
      "/Users/joelponte/opt/anaconda3/envs/machine-learning-platform/lib/python3.7/site-packages/sklearn/utils/validation.py:760: DataConversionWarning: A column-vector y was passed when a 1d array was expected. Please change the shape of y to (n_samples, ), for example using ravel().\n",
      "  y = column_or_1d(y, warn=True)\n"
     ]
    },
    {
     "name": "stdout",
     "output_type": "stream",
     "text": [
      "27\n"
     ]
    },
    {
     "name": "stderr",
     "output_type": "stream",
     "text": [
      "/Users/joelponte/opt/anaconda3/envs/machine-learning-platform/lib/python3.7/site-packages/sklearn/utils/validation.py:760: DataConversionWarning: A column-vector y was passed when a 1d array was expected. Please change the shape of y to (n_samples, ), for example using ravel().\n",
      "  y = column_or_1d(y, warn=True)\n"
     ]
    }
   ],
   "source": [
    "ts = M5TimeSeriesSplit(n_days=28, \n",
    "                       days_columns=train.columns[6:].tolist() + submission.columns[1:].tolist(),\n",
    "                       fixed_columns=train.columns[:6].tolist(),\n",
    "                       return_index=True,\n",
    "                       rename=False,\n",
    "                       sliding_window=True,\n",
    "                       method=1,\n",
    "                       split_train=True,\n",
    "                       do_enumerate=True)\n",
    "\n",
    "predictions = pd.DataFrame()\n",
    "params = {'colsample_bytree': 0.6}\n",
    "for i, X_tr_col, y_tr_col, X_te_col, y_te_col in ts.split(train):\n",
    "    print(i)\n",
    "    X_tr, y_tr, X_te = train[X_tr_col], train[y_tr_col], train[X_te_col]\n",
    "    \n",
    "    reg = LGBMRegressor(**params)\n",
    "    reg.fit(X_tr.drop(columns=id_columns).values, y_tr)\n",
    "\n",
    "    col_name = submission.columns[i+1]\n",
    "    predictions[col_name] = reg.predict(X_te.drop(columns=id_columns).values)"
   ]
  },
  {
   "cell_type": "code",
   "execution_count": 68,
   "metadata": {
    "Collapsed": "false"
   },
   "outputs": [],
   "source": [
    "submission.iloc[:predictions.shape[0],1:] = predictions.values"
   ]
  },
  {
   "cell_type": "code",
   "execution_count": 72,
   "metadata": {
    "Collapsed": "false"
   },
   "outputs": [],
   "source": [
    "submission.to_csv(\"submissions/submission_4.csv\", index=False)"
   ]
  },
  {
   "cell_type": "code",
   "execution_count": null,
   "metadata": {
    "Collapsed": "false"
   },
   "outputs": [],
   "source": []
  },
  {
   "cell_type": "code",
   "execution_count": null,
   "metadata": {
    "Collapsed": "false",
    "ExecuteTime": {
     "end_time": "2020-03-06T14:08:07.000365Z",
     "start_time": "2020-03-06T14:08:04.987717Z"
    }
   },
   "outputs": [],
   "source": []
  }
 ],
 "metadata": {
  "kernelspec": {
   "display_name": "machine-learning-platform",
   "language": "python",
   "name": "machine-learning-platform"
  },
  "language_info": {
   "codemirror_mode": {
    "name": "ipython",
    "version": 3
   },
   "file_extension": ".py",
   "mimetype": "text/x-python",
   "name": "python",
   "nbconvert_exporter": "python",
   "pygments_lexer": "ipython3",
   "version": "3.7.5"
  },
  "toc": {
   "base_numbering": 1,
   "nav_menu": {},
   "number_sections": true,
   "sideBar": true,
   "skip_h1_title": false,
   "title_cell": "Table of Contents",
   "title_sidebar": "Contents",
   "toc_cell": false,
   "toc_position": {},
   "toc_section_display": true,
   "toc_window_display": false
  },
  "varInspector": {
   "cols": {
    "lenName": 16,
    "lenType": 16,
    "lenVar": 40
   },
   "kernels_config": {
    "python": {
     "delete_cmd_postfix": "",
     "delete_cmd_prefix": "del ",
     "library": "var_list.py",
     "varRefreshCmd": "print(var_dic_list())"
    },
    "r": {
     "delete_cmd_postfix": ") ",
     "delete_cmd_prefix": "rm(",
     "library": "var_list.r",
     "varRefreshCmd": "cat(var_dic_list()) "
    }
   },
   "types_to_exclude": [
    "module",
    "function",
    "builtin_function_or_method",
    "instance",
    "_Feature"
   ],
   "window_display": false
  }
 },
 "nbformat": 4,
 "nbformat_minor": 4
}
